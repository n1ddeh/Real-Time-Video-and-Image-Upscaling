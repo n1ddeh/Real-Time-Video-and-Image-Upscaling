{
 "cells": [
  {
   "cell_type": "code",
   "execution_count": 5,
   "metadata": {
    "scrolled": true
   },
   "outputs": [],
   "source": [
    "from model.srgan import generator\n",
    "from model import resolve_single\n",
    "import utils\n",
    "\n",
    "model = generator()\n",
    "model.load_weights('weights/srgan/gan_generator.h5')\n",
    "\n",
    "#lr = utils.load_image('demo/0805x4-crop.png')\n",
    "#sr = resolve_single(model, lr)\n",
    "#utils.plot_sample(lr, sr)"
   ]
  },
  {
   "cell_type": "code",
   "execution_count": 6,
   "metadata": {},
   "outputs": [
    {
     "name": "stdout",
     "output_type": "stream",
     "text": [
      "<class 'numpy.ndarray'>\n",
      "<class 'tensorflow.python.framework.ops.EagerTensor'>\n"
     ]
    }
   ],
   "source": [
    "print(type(lr)) # INPUT\n",
    "print(type(sr)) # OUTPUT"
   ]
  },
  {
   "cell_type": "code",
   "execution_count": 7,
   "metadata": {},
   "outputs": [],
   "source": [
    "import cv2\n",
    "import numpy as np\n",
    "\n",
    "cap = cv2.VideoCapture(0)\n",
    "ret, frame = cap.read()\n",
    "scale = 30\n",
    "width = int(frame.shape[1] * (scale/100))\n",
    "height = int(frame.shape[0] * (scale/100))\n",
    "dim = (width, height)\n",
    "\n",
    "while(True):\n",
    "    # Capture frame-by-frame\n",
    "    ret, frame = cap.read()\n",
    "    crop = cv2.resize(frame, dim, interpolation = cv2.INTER_AREA)\n",
    "    upscale = resolve_single(model, crop).numpy()\n",
    "    \n",
    "    # Display the resulting frame\n",
    "    cv2.imshow('input', frame)\n",
    "    cv2.imshow('cropped', crop)\n",
    "    cv2.imshow('upscale', upscale)\n",
    "    \n",
    "    if cv2.waitKey(1) & 0xFF == ord('q'):\n",
    "        break\n",
    "\n",
    "# When everything done, release the capture\n",
    "cap.release()\n",
    "cv2.destroyAllWindows()"
   ]
  },
  {
   "cell_type": "code",
   "execution_count": null,
   "metadata": {},
   "outputs": [],
   "source": []
  },
  {
   "cell_type": "code",
   "execution_count": null,
   "metadata": {},
   "outputs": [],
   "source": []
  }
 ],
 "metadata": {
  "kernelspec": {
   "display_name": "Python 3",
   "language": "python",
   "name": "python3"
  },
  "language_info": {
   "codemirror_mode": {
    "name": "ipython",
    "version": 3
   },
   "file_extension": ".py",
   "mimetype": "text/x-python",
   "name": "python",
   "nbconvert_exporter": "python",
   "pygments_lexer": "ipython3",
   "version": "3.8.6"
  }
 },
 "nbformat": 4,
 "nbformat_minor": 4
}
