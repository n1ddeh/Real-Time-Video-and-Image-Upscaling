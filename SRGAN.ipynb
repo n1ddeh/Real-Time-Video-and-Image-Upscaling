{
 "cells": [
  {
   "cell_type": "code",
   "execution_count": 12,
   "metadata": {
    "scrolled": true
   },
   "outputs": [
    {
     "name": "stdout",
     "output_type": "stream",
     "text": [
      "Num GPUs Available:  1\n"
     ]
    }
   ],
   "source": [
    "from model.srgan import generator\n",
    "from model.wdsr import wdsr_b\n",
    "from model import resolve_single\n",
    "import utils\n",
    "import cv2\n",
    "import numpy as np\n",
    "import tensorflow as tf\n",
    "print(\"Num GPUs Available: \", len(tf.config.experimental.list_physical_devices('GPU')))\n",
    "\n",
    "# SRGAN\n",
    "srgan_model = generator()\n",
    "srgan_model.load_weights('weights/srgan/gan_generator.h5')"
   ]
  },
  {
   "cell_type": "code",
   "execution_count": 13,
   "metadata": {},
   "outputs": [],
   "source": [
    "cap = cv2.VideoCapture(0)\n",
    "ret, frame = cap.read()\n",
    "scale = 30\n",
    "\n",
    "while(True):\n",
    "    width = int(frame.shape[1] * (scale/100))\n",
    "    height = int(frame.shape[0] * (scale/100))\n",
    "    dim = (width, height)\n",
    "    # Capture frame-by-frame\n",
    "    ret, frame = cap.read()\n",
    "    crop = cv2.resize(frame, dim, interpolation = cv2.INTER_AREA)\n",
    "    upscale = resolve_single(srgan_model, crop).numpy()\n",
    "    \n",
    "    width = int(frame.shape[1])\n",
    "    height = int(frame.shape[0])\n",
    "    dim = (width, height)\n",
    "    crop = cv2.resize(crop, dim, interpolation = cv2.INTER_AREA)\n",
    "    upscale = cv2.resize(upscale, dim, interpolation = cv2.INTER_AREA)\n",
    "    \n",
    "    # Display the resulting frame\n",
    "    cv2.imshow('input', frame)\n",
    "    cv2.imshow('cropped', crop)\n",
    "    cv2.imshow('srgan', upscale)\n",
    "    \n",
    "    if cv2.waitKey(1) & 0xFF == ord('q'):\n",
    "        break\n",
    "\n",
    "# When everything done, release the capture\n",
    "cap.release()\n",
    "cv2.destroyAllWindows()"
   ]
  },
  {
   "cell_type": "code",
   "execution_count": 14,
   "metadata": {},
   "outputs": [],
   "source": [
    "cap = cv2.VideoCapture('Videos/Beach.mp4')\n",
    "\n",
    "scale = 30\n",
    "width = int(frame.shape[1] * (scale/100))\n",
    "height = int(frame.shape[0] * (scale/100))\n",
    "dim = (width, height)\n",
    "\n",
    "fourcc = cv2.VideoWriter_fourcc(*'H264')\n",
    "out = cv2.VideoWriter('Videos/beach-crop.mp4', fourcc, 30, dim)\n",
    "ret, frame = cap.read()\n",
    "\n",
    "while ret == True:\n",
    "    b = cv2.resize(frame, dim, fx=0, fy=0, interpolation = cv2.INTER_CUBIC)\n",
    "    cv2.imshow('lol', frame)\n",
    "    out.write(b)\n",
    "    ret, frame = cap.read()\n",
    "    if cv2.waitKey(1) & 0xFF == ord('q'):\n",
    "        break\n",
    "        \n",
    "cap.release()\n",
    "out.release()\n",
    "cv2.destroyAllWindows()"
   ]
  },
  {
   "cell_type": "code",
   "execution_count": 5,
   "metadata": {},
   "outputs": [],
   "source": [
    "cap = cv2.VideoCapture('demo/rick.mp4')\n",
    "\n",
    "if (cap.isOpened()):\n",
    "    ret, frame = cap.read()\n",
    "    upscale = resolve_single(srgan_model, frame)\n",
    "    width = int(upscale.shape[1])\n",
    "    height = int(upscale.shape[0])\n",
    "    dim=(width,height)\n",
    "    fourcc = cv2.VideoWriter_fourcc(*'H264')\n",
    "    out = cv2.VideoWriter('demo/rick-upscale.mp4', fourcc, 25, dim)\n",
    "    \n",
    "    while (cap.isOpened()):\n",
    "        ret, frame = cap.read()\n",
    "        upscale = resolve_single(wdsr_model, frame).numpy()\n",
    "        out.write(upscale)\n",
    "        cv2.imshow('frame', frame)\n",
    "        if cv2.waitKey(1) & 0xFF == ord('q'):\n",
    "            break\n",
    "    \n",
    "cap.release()\n",
    "cv2.destroyAllWindows()"
   ]
  },
  {
   "cell_type": "code",
   "execution_count": 1,
   "metadata": {},
   "outputs": [
    {
     "name": "stdout",
     "output_type": "stream",
     "text": [
      "Num GPUs Available:  1\n"
     ]
    }
   ],
   "source": []
  },
  {
   "cell_type": "code",
   "execution_count": null,
   "metadata": {},
   "outputs": [],
   "source": []
  }
 ],
 "metadata": {
  "kernelspec": {
   "display_name": "Python 3",
   "language": "python",
   "name": "python3"
  },
  "language_info": {
   "codemirror_mode": {
    "name": "ipython",
    "version": 3
   },
   "file_extension": ".py",
   "mimetype": "text/x-python",
   "name": "python",
   "nbconvert_exporter": "python",
   "pygments_lexer": "ipython3",
   "version": "3.8.6"
  }
 },
 "nbformat": 4,
 "nbformat_minor": 4
}
